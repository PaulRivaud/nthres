{
 "cells": [
  {
   "cell_type": "code",
   "execution_count": 1,
   "metadata": {},
   "outputs": [],
   "source": [
    "# Import nthresh module\n",
    "import nthresh\n",
    "\n",
    "# For data generation and plotting purposes\n",
    "import numpy as np\n",
    "import matplotlib\n",
    "from matplotlib import pyplot as plt"
   ]
  },
  {
   "cell_type": "code",
   "execution_count": 2,
   "metadata": {},
   "outputs": [
    {
     "data": {
      "text/plain": [
       "<matplotlib.lines.Line2D at 0x128814320>"
      ]
     },
     "execution_count": 2,
     "metadata": {},
     "output_type": "execute_result"
    },
    {
     "data": {
      "image/png": "[encoded data removed]",
      "text/plain": [
       "<Figure size 432x288 with 1 Axes>"
      ]
     },
     "metadata": {
      "needs_background": "light"
     },
     "output_type": "display_data"
    }
   ],
   "source": [
    "# Example 1 - bimodal distribution\n",
    "\n",
    "# Generate data\n",
    "N = 1000\n",
    "X = np.concatenate((np.random.normal(0, 1, int(0.3 * N)),\n",
    "                    np.random.normal(5, 1, int(0.7 * N))))\n",
    "\n",
    "# Get threshold that separates best the two modals\n",
    "threshold = nthresh.nthresh(X, n_classes=2, bins=10, n_jobs=1)\n",
    "\n",
    "# Plot data histogram and threshold\n",
    "x,y,z = plt.hist(X, bins=50)\n",
    "plt.axvline(threshold[0], c='red')"
   ]
  },
  {
   "cell_type": "code",
   "execution_count": 3,
   "metadata": {},
   "outputs": [
    {
     "data": {
      "text/plain": [
       "<matplotlib.lines.Line2D at 0x12b608518>"
      ]
     },
     "execution_count": 3,
     "metadata": {},
     "output_type": "execute_result"
    },
    {
     "data": {
      "image/png": "[encoded data removed]",
      "text/plain": [
       "<Figure size 432x288 with 1 Axes>"
      ]
     },
     "metadata": {
      "needs_background": "light"
     },
     "output_type": "display_data"
    }
   ],
   "source": [
    "# example 2 - trimodal distribution\n",
    "\n",
    "# Generate data\n",
    "N = 1000\n",
    "X = np.concatenate((np.random.normal(0, 1, int(0.3 * N)),\n",
    "                    np.random.normal(5, 0.5, int(0.4 * N)),\n",
    "                    np.random.normal(15, 2, int(0.3 * N))))\n",
    "\n",
    "# Get thresholds that separate best the three modals\n",
    "thresholds = nthresh.nthresh(X, n_classes=3, bins=20, n_jobs=1)\n",
    "\n",
    "# Plot data histogram and thresholds\n",
    "x,y,z = plt.hist(X, bins=50)\n",
    "plt.axvline(thresholds[0], c='red')\n",
    "plt.axvline(thresholds[1], c='red')"
   ]
  },
  {
   "cell_type": "code",
   "execution_count": null,
   "metadata": {},
   "outputs": [],
   "source": []
  }
 ],
 "metadata": {
  "kernelspec": {
   "display_name": "py3",
   "language": "python",
   "name": "py3"
  },
  "language_info": {
   "codemirror_mode": {
    "name": "ipython",
    "version": 3
   },
   "file_extension": ".py",
   "mimetype": "text/x-python",
   "name": "python",
   "nbconvert_exporter": "python",
   "pygments_lexer": "ipython3",
   "version": "3.7.3"
  }
 },
 "nbformat": 4,
 "nbformat_minor": 2
}
